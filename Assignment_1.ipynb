{
 "cells": [
  {
   "cell_type": "markdown",
   "metadata": {},
   "source": [
    "# 1. What are the differences between operators and values in the following?\n",
    "\n",
    "*\n",
    "\n",
    "'hello'\n",
    "\n",
    "-87.8\n",
    "\n",
    "-\n",
    "\n",
    "/\n",
    "\n",
    "+\n",
    "\n",
    "6\n",
    "\n",
    "\n",
    "## Answer:\n",
    "* it is multiplication operator\n",
    "'hello' here a string is created\n",
    "-87.8 a floating value\n",
    "- it is Subtraction operator\n",
    "+ it is addition operator"
   ]
  },
  {
   "cell_type": "markdown",
   "metadata": {},
   "source": [
    "# 2. What is the difference between string and variable?\n",
    "spam\n",
    "\n",
    "'spam'\n",
    "\n",
    "## Answer:\n",
    "spam it is a variable using which we can be used to hold data\n",
    "'spam' it is a string using which which is ued to store multiple sequence of characters"
   ]
  },
  {
   "cell_type": "markdown",
   "metadata": {},
   "source": [
    "## 3. Describe three different data forms.\n",
    "\n",
    "## Answer:\n",
    "integer: Represent whole number ex: b = 10\n",
    "\n",
    "string: If multiple sequence of character is store inside single quotes ('') or double quotes (\"\") ex: s = \"hello world\"\n",
    "\n",
    "floating: it represents the floating point number ex: n= 10.5"
   ]
  },
  {
   "cell_type": "markdown",
   "metadata": {},
   "source": [
    "## 4. What makes up an expression? What are the functions of all expressions?"
   ]
  },
  {
   "cell_type": "markdown",
   "metadata": {},
   "source": [
    "## 5. In this chapter, assignment statements such as spam = 10 were added. What's the difference between a declaration and an expression?\n",
    "\n",
    "## Answer:\n",
    "\n",
    "value 10 is assigned to variable spam using = assignment operator"
   ]
  },
  {
   "cell_type": "markdown",
   "metadata": {},
   "source": [
    "## 6. After running the following code, what does the variable bacon contain?\n",
    "bacon = 22\n",
    "\n",
    "bacon + 1\n",
    "\n",
    "## Answer:\n",
    "after running the above program bacon still contain 22 as post adding 1 we are not holding it in bacon"
   ]
  },
  {
   "cell_type": "markdown",
   "metadata": {},
   "source": [
    "## 7. What should the values of the following two terms be?\n",
    "\n",
    "'spam' + 'spamspam'\n",
    "\n",
    "'spam' * 3\n",
    "\n",
    "## Answer:\n",
    "\n",
    "spamspamspam\n",
    "\n",
    "spamspamspam"
   ]
  },
  {
   "cell_type": "markdown",
   "metadata": {},
   "source": [
    "## 8. Why is it that eggs is a true variable name but 100 is not?\n",
    "\n",
    "## Answer:\n",
    "\n",
    "Variable name can't be start with number"
   ]
  },
  {
   "cell_type": "markdown",
   "metadata": {},
   "source": [
    "## 9. Which of the following three functions may be used to convert a value to an integer, a floating-point number, or a string?\n",
    "\n",
    "## Answer:\n",
    "\n",
    "no = 10\n",
    "\n",
    "no = str(no) # converting the value of variable \"no\"  to string using str() function\n",
    "\n",
    "no = float(no) # converting the value of variable \"no\"  to float using float() function\n",
    "\n",
    "no = int(no) # converting the value of variable \"no\"  to integer using int() function"
   ]
  },
  {
   "cell_type": "markdown",
   "metadata": {},
   "source": [
    "## 10. What is the error caused by this expression? What would you do about it?\n",
    "\n",
    "'I have eaten ' + 99 + ' burritos.'\n",
    "\n",
    "## Answer:\n",
    "we can't do concatenate of string with a number"
   ]
  }
 ],
 "metadata": {
  "kernelspec": {
   "display_name": "Python 3",
   "language": "python",
   "name": "python3"
  },
  "language_info": {
   "codemirror_mode": {
    "name": "ipython",
    "version": 3
   },
   "file_extension": ".py",
   "mimetype": "text/x-python",
   "name": "python",
   "nbconvert_exporter": "python",
   "pygments_lexer": "ipython3",
   "version": "3.8.5"
  }
 },
 "nbformat": 4,
 "nbformat_minor": 4
}
